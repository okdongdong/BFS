{
 "cells": [
  {
   "cell_type": "code",
   "execution_count": 233,
   "id": "3c307c55",
   "metadata": {},
   "outputs": [],
   "source": [
    "import pandas as pd\n",
    "import numpy as np"
   ]
  },
  {
   "cell_type": "code",
   "execution_count": 251,
   "id": "ef49880b",
   "metadata": {},
   "outputs": [],
   "source": [
    "df_tour = pd.read_csv('./busan_tourlist.csv', encoding='UTF-8', index_col=0)"
   ]
  },
  {
   "cell_type": "code",
   "execution_count": 252,
   "id": "13f090da",
   "metadata": {
    "collapsed": true
   },
   "outputs": [
    {
     "data": {
      "text/html": [
       "<div>\n",
       "<style scoped>\n",
       "    .dataframe tbody tr th:only-of-type {\n",
       "        vertical-align: middle;\n",
       "    }\n",
       "\n",
       "    .dataframe tbody tr th {\n",
       "        vertical-align: top;\n",
       "    }\n",
       "\n",
       "    .dataframe thead th {\n",
       "        text-align: right;\n",
       "    }\n",
       "</style>\n",
       "<table border=\"1\" class=\"dataframe\">\n",
       "  <thead>\n",
       "    <tr style=\"text-align: right;\">\n",
       "      <th></th>\n",
       "      <th>name</th>\n",
       "      <th>GUN</th>\n",
       "      <th>address</th>\n",
       "      <th>lat</th>\n",
       "      <th>lng</th>\n",
       "      <th>tel</th>\n",
       "      <th>hompage</th>\n",
       "      <th>holiday</th>\n",
       "      <th>image</th>\n",
       "      <th>explain</th>\n",
       "    </tr>\n",
       "  </thead>\n",
       "  <tbody>\n",
       "    <tr>\n",
       "      <th>0</th>\n",
       "      <td>흰여울문화마을</td>\n",
       "      <td>영도구</td>\n",
       "      <td>부산광역시 영도구 흰여울길</td>\n",
       "      <td>35.078850</td>\n",
       "      <td>129.04402</td>\n",
       "      <td>051-419-4067</td>\n",
       "      <td>http://www.ydculture.com/huinnyeoulculturetown/</td>\n",
       "      <td>NaN</td>\n",
       "      <td>https://www.visitbusan.net/uploadImgs/files/cn...</td>\n",
       "      <td>절영해안산책로 가파른 담벼락 위로 독특한 마을 풍경이 보인다. 해안가 절벽 끝에 바...</td>\n",
       "    </tr>\n",
       "    <tr>\n",
       "      <th>1</th>\n",
       "      <td>깡깡이 예술마을</td>\n",
       "      <td>영도구</td>\n",
       "      <td>부산시 영도구 대평북로 36 깡깡이 안내센터</td>\n",
       "      <td>35.092648</td>\n",
       "      <td>129.03255</td>\n",
       "      <td>051-418-3336</td>\n",
       "      <td>http://kangkangee.com</td>\n",
       "      <td>매주 월요일 (투어 등 시설)</td>\n",
       "      <td>https://www.visitbusan.net/uploadImgs/files/cn...</td>\n",
       "      <td>영도다리 건너 자갈치시장 맞은 편 물양장에 배들이 가득 들어차 있다. 세상에 못 고...</td>\n",
       "    </tr>\n",
       "  </tbody>\n",
       "</table>\n",
       "</div>"
      ],
      "text/plain": [
       "       name  GUN                   address        lat        lng  \\\n",
       "0   흰여울문화마을  영도구            부산광역시 영도구 흰여울길  35.078850  129.04402   \n",
       "1  깡깡이 예술마을  영도구  부산시 영도구 대평북로 36 깡깡이 안내센터  35.092648  129.03255   \n",
       "\n",
       "            tel                                          hompage  \\\n",
       "0  051-419-4067  http://www.ydculture.com/huinnyeoulculturetown/   \n",
       "1  051-418-3336                            http://kangkangee.com   \n",
       "\n",
       "            holiday                                              image  \\\n",
       "0               NaN  https://www.visitbusan.net/uploadImgs/files/cn...   \n",
       "1  매주 월요일 (투어 등 시설)  https://www.visitbusan.net/uploadImgs/files/cn...   \n",
       "\n",
       "                                             explain  \n",
       "0  절영해안산책로 가파른 담벼락 위로 독특한 마을 풍경이 보인다. 해안가 절벽 끝에 바...  \n",
       "1  영도다리 건너 자갈치시장 맞은 편 물양장에 배들이 가득 들어차 있다. 세상에 못 고...  "
      ]
     },
     "execution_count": 252,
     "metadata": {},
     "output_type": "execute_result"
    }
   ],
   "source": [
    "df_tour.head(2)"
   ]
  },
  {
   "cell_type": "code",
   "execution_count": 253,
   "id": "c7307101",
   "metadata": {},
   "outputs": [],
   "source": [
    "# 필요없는 부분 삭제\n",
    "df_tour.drop(['GUN'], axis=1, inplace=True)\n",
    "df_tour.drop(['hompage'], axis=1, inplace=True)"
   ]
  },
  {
   "cell_type": "code",
   "execution_count": 254,
   "id": "1071b39d",
   "metadata": {},
   "outputs": [],
   "source": [
    "# 필요한 열 생성\n",
    "df_tour['category'] = \"\"\n",
    "df_tour['label'] = '관광지'"
   ]
  },
  {
   "cell_type": "code",
   "execution_count": 255,
   "id": "98ccf2c8",
   "metadata": {},
   "outputs": [],
   "source": [
    "# 열 이름 변경\n",
    "df_tour.rename(columns={'tel': 'phone'}, inplace=True)\n",
    "df_tour.rename(columns={'holiday': 'opentime'}, inplace=True)\n",
    "df_tour.rename(columns={'image': 'thumbnail'}, inplace=True)\n",
    "df_tour.rename(columns={'explain': 'info'}, inplace=True)"
   ]
  },
  {
   "cell_type": "code",
   "execution_count": 240,
   "id": "5cd537a3",
   "metadata": {},
   "outputs": [],
   "source": [
    "# 열 재배치\n",
    "df_tour = df_tour[['name', 'info', 'opentime', 'lat', 'lng', 'address', 'category', 'phone', 'label', 'station', 'average_score', 'thumbnail']]"
   ]
  },
  {
   "cell_type": "markdown",
   "id": "dc68edbc",
   "metadata": {},
   "source": [
    "- 리뷰 데이터 합치기"
   ]
  },
  {
   "cell_type": "code",
   "execution_count": 243,
   "id": "d4d4bd46",
   "metadata": {},
   "outputs": [],
   "source": [
    "# 관광지목록\n",
    "df_tour = pd.read_csv('./busan_tour_change.csv', encoding='cp949', index_col=0)\n",
    "# 카카오 관광지 리뷰\n",
    "df_review = pd.read_csv('./tour_review.csv', encoding='UTF-8', index_col=0)"
   ]
  },
  {
   "cell_type": "code",
   "execution_count": 145,
   "id": "be7f7a22",
   "metadata": {},
   "outputs": [],
   "source": [
    "# 네이버 리뷰\n",
    "review_list = pd.read_csv('./부산리뷰.csv', encoding='UTF-8', index_col=0)"
   ]
  },
  {
   "cell_type": "code",
   "execution_count": 151,
   "id": "1e8f9253",
   "metadata": {},
   "outputs": [],
   "source": [
    "review_list.rename(columns={'score': 'rank'}, inplace=True)\n",
    "review_list.rename(columns={'name': 'title'}, inplace=True)"
   ]
  },
  {
   "cell_type": "code",
   "execution_count": 162,
   "id": "26698840",
   "metadata": {},
   "outputs": [],
   "source": [
    "df_review.rename(columns={'name': 'title'}, inplace=True)\n",
    "df_review.rename(columns={'score': 'rank'}, inplace=True)"
   ]
  },
  {
   "cell_type": "code",
   "execution_count": 165,
   "id": "1e1a5155",
   "metadata": {},
   "outputs": [],
   "source": [
    "# 데이터 합치기\n",
    "result = pd.concat([df_review, review_list], ignore_index=True)"
   ]
  },
  {
   "cell_type": "code",
   "execution_count": 210,
   "id": "66b49513",
   "metadata": {},
   "outputs": [],
   "source": [
    "# 데이터 프레임 생성\n",
    "columns = ['title', 'subway', 'rank_average', 'rank_count']\n",
    "review_df = pd.DataFrame(columns=columns)"
   ]
  },
  {
   "cell_type": "code",
   "execution_count": 205,
   "id": "53fb0f09",
   "metadata": {},
   "outputs": [],
   "source": [
    "tour_list = list(df_tour['name'].value_counts().index)\n",
    "tour_list2 = list(result['title'].value_counts().index)"
   ]
  },
  {
   "cell_type": "markdown",
   "id": "e9d922ff",
   "metadata": {},
   "source": [
    "- 별점 계산해주기"
   ]
  },
  {
   "cell_type": "code",
   "execution_count": 211,
   "id": "42f1ef84",
   "metadata": {},
   "outputs": [],
   "source": [
    "for tour in tour_list:\n",
    "    tour_subway = ''\n",
    "    if len(result[result['title'] == tour]) == 0:\n",
    "        continue\n",
    "    new_tour = result[result['title'] == tour]\n",
    "    tour_name = new_tour['title'].iloc[0]\n",
    "    \n",
    "#     print(tour_subway)\n",
    "    null_list = new_tour[new_tour['subway'].isnull() == False]\n",
    "    if len(null_list) == 0:\n",
    "        pass\n",
    "    else:\n",
    "        tour_subway = null_list['subway'].iloc[0]\n",
    "    \n",
    "    rank_list = new_tour[np.isnan(new_tour['rank']) == False]\n",
    "#     print(rank_list)\n",
    "#     c = rank_list[np.isnan(rank_list['rank']) == True]\n",
    "    rank_count = len(rank_list)\n",
    "    rank_sum = rank_list['rank'].sum()\n",
    "#     print(rank_sum)\n",
    "#     print(rank_count)\n",
    "    rank_average = round(rank_sum / rank_count, 2)\n",
    "#     print(rank_average)\n",
    "    \n",
    "    review_df = review_df.append({\n",
    "        'title': tour_name,\n",
    "        'subway': tour_subway,\n",
    "        'rank_average': rank_average,\n",
    "        'rank_count': rank_count,\n",
    "    },ignore_index=True\n",
    "    )"
   ]
  },
  {
   "cell_type": "code",
   "execution_count": 229,
   "id": "24fae25d",
   "metadata": {},
   "outputs": [],
   "source": [
    "# 열 이름 조정\n",
    "review_df.rename(columns={'title': 'name'}, inplace=True)\n",
    "review_df.rename(columns={'rank_average': 'average_score'}, inplace=True)\n",
    "review_df.rename(columns={'subway': 'station'}, inplace=True)"
   ]
  },
  {
   "cell_type": "code",
   "execution_count": 256,
   "id": "2588b64f",
   "metadata": {},
   "outputs": [],
   "source": [
    "# 정보데이터와 리뷰 개수 데이터 합치기\n",
    "info_result = pd.merge(df_tour, review_df, how=\"outer\", on='name')"
   ]
  },
  {
   "cell_type": "code",
   "execution_count": 263,
   "id": "db4fc508",
   "metadata": {},
   "outputs": [],
   "source": [
    "info_result.rename(columns={'rank_count': 'review_count'}, inplace=True)\n",
    "info_result = info_result[['name', 'info', 'opentime', 'lat', 'lng', 'address', 'category', 'phone', 'label', 'station', 'average_score', 'thumbnail', 'review_count']]"
   ]
  },
  {
   "cell_type": "code",
   "execution_count": 269,
   "id": "6f8f92f6",
   "metadata": {},
   "outputs": [],
   "source": [
    "info_result.to_csv(path_or_buf='busan_tour_change2.csv', encoding='utf-8-sig')"
   ]
  }
 ],
 "metadata": {
  "kernelspec": {
   "display_name": "Python 3 (ipykernel)",
   "language": "python",
   "name": "python3"
  },
  "language_info": {
   "codemirror_mode": {
    "name": "ipython",
    "version": 3
   },
   "file_extension": ".py",
   "mimetype": "text/x-python",
   "name": "python",
   "nbconvert_exporter": "python",
   "pygments_lexer": "ipython3",
   "version": "3.7.11"
  }
 },
 "nbformat": 4,
 "nbformat_minor": 5
}
